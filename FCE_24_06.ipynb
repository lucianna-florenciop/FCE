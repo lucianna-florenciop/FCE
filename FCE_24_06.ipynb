{
  "nbformat": 4,
  "nbformat_minor": 0,
  "metadata": {
    "colab": {
      "provenance": []
    },
    "kernelspec": {
      "name": "python3",
      "display_name": "Python 3"
    },
    "language_info": {
      "name": "python"
    }
  },
  "cells": [
    {
      "cell_type": "code",
      "execution_count": null,
      "metadata": {
        "colab": {
          "base_uri": "https://localhost:8080/"
        },
        "id": "JySA4rN58FgB",
        "outputId": "d0e76cae-8a39-4316-a071-d69415c930a5"
      },
      "outputs": [
        {
          "output_type": "stream",
          "name": "stdout",
          "text": [
            "Questão A:\n",
            "F = 150\n",
            "x =  0.167\n",
            "Questão B:\n",
            "F = 100.0\n",
            "x =  0.225\n"
          ]
        }
      ],
      "source": [
        "def misturador(F_A, F_B, x_a, x_b):\n",
        "  '''\n",
        "  Esta função determina a vazão e a concentração de sal na saída de um misturador\n",
        "  '''\n",
        "\n",
        "  try:\n",
        "    if (F_A < 0 or F_B < 0):\n",
        "      raise ValueError(\"As vazoes devem ser maiores que zero\")\n",
        "    if (x_a < 0 or x_b < 0):\n",
        "      raise ValueError(\"As frações molares devem ser maiores que zero\")\n",
        "    if (x_a > 1 or x_b > 1):\n",
        "      raise ValueError(\"As frações molares devem ser menores que um\")\n",
        "\n",
        "    F = F_A + F_B\n",
        "\n",
        "    if F == 0:\n",
        "      raise ZeroDivisionError(\"F não pode ser zero\")\n",
        "\n",
        "    x = (F_A*x_a + F_B*x_b)/F\n",
        "    return F, x\n",
        "\n",
        "\n",
        "  except (ValueError, ZeroDivisionError) as e:\n",
        "    print(f\"Erro: {e}\")\n",
        "    return None, None\n",
        "\n",
        "F_A = 100\n",
        "F_B = 50\n",
        "x_a = 0.1\n",
        "x_b = 0.3\n",
        "\n",
        "# (a)\n",
        "solucao_a = misturador(F_A, F_B, x_a, x_b)\n",
        "if solucao_a[0] and solucao_a[1] != None:\n",
        "  print(f\"Questão A:\")\n",
        "  print(f\"F = {solucao_a[0]}\")\n",
        "  print(f\"x = {solucao_a[1]: .3f}\")\n",
        "\n",
        "# (b)\n",
        "solucao_b = misturador((F_A*0.5), F_B, (x_a*1.5), x_b)\n",
        "if solucao_b[0] and solucao_b[1] != None:\n",
        "  print(f\"Questão B:\")\n",
        "  print(f\"F = {solucao_b[0]}\")\n",
        "  print(f\"x = {solucao_b[1]: .3f}\")"
      ]
    }
  ]
}